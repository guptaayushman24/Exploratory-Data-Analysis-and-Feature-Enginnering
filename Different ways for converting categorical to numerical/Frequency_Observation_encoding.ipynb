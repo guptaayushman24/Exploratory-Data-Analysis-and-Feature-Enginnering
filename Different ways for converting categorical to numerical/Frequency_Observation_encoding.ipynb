{
 "cells": [
  {
   "cell_type": "markdown",
   "metadata": {},
   "source": [
    "That is, if 10 out of 100 observations show the category\n",
    "blue for the variable color, we would replace blue with 10 when doing count encoding, or\n",
    "by 0.1 if performing frequency encoding"
   ]
  },
  {
   "cell_type": "code",
   "execution_count": 1,
   "metadata": {},
   "outputs": [
    {
     "ename": "ModuleNotFoundError",
     "evalue": "No module named 'feature_engine.categorical_encoders'",
     "output_type": "error",
     "traceback": [
      "\u001b[1;31m---------------------------------------------------------------------------\u001b[0m",
      "\u001b[1;31mModuleNotFoundError\u001b[0m                       Traceback (most recent call last)",
      "\u001b[1;32mc:\\Users\\gupta\\OneDrive\\Desktop\\EDA and FE\\Different ways for converting categorical to numerical\\Frequency_Observation_encoding.ipynb Cell 2\u001b[0m line \u001b[0;36m3\n\u001b[0;32m      <a href='vscode-notebook-cell:/c%3A/Users/gupta/OneDrive/Desktop/EDA%20and%20FE/Different%20ways%20for%20converting%20categorical%20to%20numerical/Frequency_Observation_encoding.ipynb#W3sZmlsZQ%3D%3D?line=0'>1</a>\u001b[0m \u001b[39mimport\u001b[39;00m \u001b[39mpandas\u001b[39;00m \u001b[39mas\u001b[39;00m \u001b[39mpd\u001b[39;00m\n\u001b[0;32m      <a href='vscode-notebook-cell:/c%3A/Users/gupta/OneDrive/Desktop/EDA%20and%20FE/Different%20ways%20for%20converting%20categorical%20to%20numerical/Frequency_Observation_encoding.ipynb#W3sZmlsZQ%3D%3D?line=1'>2</a>\u001b[0m \u001b[39mfrom\u001b[39;00m \u001b[39msklearn\u001b[39;00m\u001b[39m.\u001b[39;00m\u001b[39mmodel_selection\u001b[39;00m \u001b[39mimport\u001b[39;00m train_test_split\n\u001b[1;32m----> <a href='vscode-notebook-cell:/c%3A/Users/gupta/OneDrive/Desktop/EDA%20and%20FE/Different%20ways%20for%20converting%20categorical%20to%20numerical/Frequency_Observation_encoding.ipynb#W3sZmlsZQ%3D%3D?line=2'>3</a>\u001b[0m \u001b[39mfrom\u001b[39;00m \u001b[39mfeature_engine\u001b[39;00m\u001b[39m.\u001b[39;00m\u001b[39mcategorical_encoders\u001b[39;00m \u001b[39mimport\u001b[39;00m CountFrequencyCategoricalEncoder\n",
      "\u001b[1;31mModuleNotFoundError\u001b[0m: No module named 'feature_engine.categorical_encoders'"
     ]
    }
   ],
   "source": [
    "import pandas as pd\n",
    "from sklearn.model_selection import train_test_split\n",
    "from feature_engine.categorical_encoders import CountFrequencyCategoricalEncoder\n"
   ]
  },
  {
   "cell_type": "code",
   "execution_count": 2,
   "metadata": {},
   "outputs": [
    {
     "name": "stdout",
     "output_type": "stream",
     "text": [
      "Requirement already satisfied: feature-engine in c:\\users\\gupta\\appdata\\local\\programs\\python\\python311\\lib\\site-packages (1.6.2)\n",
      "Requirement already satisfied: numpy>=1.18.2 in c:\\users\\gupta\\appdata\\local\\programs\\python\\python311\\lib\\site-packages (from feature-engine) (1.25.2)\n",
      "Requirement already satisfied: pandas>=1.0.3 in c:\\users\\gupta\\appdata\\local\\programs\\python\\python311\\lib\\site-packages (from feature-engine) (2.1.0)\n",
      "Requirement already satisfied: scikit-learn>=1.0.0 in c:\\users\\gupta\\appdata\\local\\programs\\python\\python311\\lib\\site-packages (from feature-engine) (1.1.3)\n",
      "Requirement already satisfied: scipy>=1.4.1 in c:\\users\\gupta\\appdata\\local\\programs\\python\\python311\\lib\\site-packages (from feature-engine) (1.11.2)\n",
      "Requirement already satisfied: statsmodels>=0.11.1 in c:\\users\\gupta\\appdata\\local\\programs\\python\\python311\\lib\\site-packages (from feature-engine) (0.14.0)\n",
      "Requirement already satisfied: python-dateutil>=2.8.2 in c:\\users\\gupta\\appdata\\roaming\\python\\python311\\site-packages (from pandas>=1.0.3->feature-engine) (2.8.2)\n",
      "Requirement already satisfied: pytz>=2020.1 in c:\\users\\gupta\\appdata\\local\\programs\\python\\python311\\lib\\site-packages (from pandas>=1.0.3->feature-engine) (2023.3)\n",
      "Requirement already satisfied: tzdata>=2022.1 in c:\\users\\gupta\\appdata\\local\\programs\\python\\python311\\lib\\site-packages (from pandas>=1.0.3->feature-engine) (2023.3)\n",
      "Requirement already satisfied: joblib>=1.0.0 in c:\\users\\gupta\\appdata\\local\\programs\\python\\python311\\lib\\site-packages (from scikit-learn>=1.0.0->feature-engine) (1.1.1)\n",
      "Requirement already satisfied: threadpoolctl>=2.0.0 in c:\\users\\gupta\\appdata\\local\\programs\\python\\python311\\lib\\site-packages (from scikit-learn>=1.0.0->feature-engine) (3.2.0)\n",
      "Requirement already satisfied: patsy>=0.5.2 in c:\\users\\gupta\\appdata\\local\\programs\\python\\python311\\lib\\site-packages (from statsmodels>=0.11.1->feature-engine) (0.5.3)\n",
      "Requirement already satisfied: packaging>=21.3 in c:\\users\\gupta\\appdata\\roaming\\python\\python311\\site-packages (from statsmodels>=0.11.1->feature-engine) (23.0)\n",
      "Requirement already satisfied: six in c:\\users\\gupta\\appdata\\roaming\\python\\python311\\site-packages (from patsy>=0.5.2->statsmodels>=0.11.1->feature-engine) (1.16.0)\n"
     ]
    }
   ],
   "source": [
    "! pip install feature-engine"
   ]
  },
  {
   "cell_type": "code",
   "execution_count": null,
   "metadata": {},
   "outputs": [],
   "source": []
  }
 ],
 "metadata": {
  "kernelspec": {
   "display_name": "Python 3",
   "language": "python",
   "name": "python3"
  },
  "language_info": {
   "codemirror_mode": {
    "name": "ipython",
    "version": 3
   },
   "file_extension": ".py",
   "mimetype": "text/x-python",
   "name": "python",
   "nbconvert_exporter": "python",
   "pygments_lexer": "ipython3",
   "version": "3.11.4"
  },
  "orig_nbformat": 4
 },
 "nbformat": 4,
 "nbformat_minor": 2
}
