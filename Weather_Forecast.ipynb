{
 "cells": [
  {
   "cell_type": "markdown",
   "metadata": {},
   "source": [
    "Importing Library"
   ]
  },
  {
   "cell_type": "code",
   "execution_count": 2,
   "metadata": {},
   "outputs": [],
   "source": [
    "import pandas as pd\n",
    "import numpy as np\n",
    "import seaborn as sns\n",
    "import matplotlib.pyplot as plt\n",
    "%matplotlib inline"
   ]
  },
  {
   "cell_type": "markdown",
   "metadata": {},
   "source": [
    "Loading the dataset and storing it in the df"
   ]
  },
  {
   "cell_type": "code",
   "execution_count": 3,
   "metadata": {},
   "outputs": [],
   "source": [
    "df = pd.read_csv('Weather_Data.csv')"
   ]
  },
  {
   "cell_type": "code",
   "execution_count": 4,
   "metadata": {},
   "outputs": [
    {
     "data": {
      "text/html": [
       "<div>\n",
       "<style scoped>\n",
       "    .dataframe tbody tr th:only-of-type {\n",
       "        vertical-align: middle;\n",
       "    }\n",
       "\n",
       "    .dataframe tbody tr th {\n",
       "        vertical-align: top;\n",
       "    }\n",
       "\n",
       "    .dataframe thead th {\n",
       "        text-align: right;\n",
       "    }\n",
       "</style>\n",
       "<table border=\"1\" class=\"dataframe\">\n",
       "  <thead>\n",
       "    <tr style=\"text-align: right;\">\n",
       "      <th></th>\n",
       "      <th>STATION</th>\n",
       "      <th>NAME</th>\n",
       "      <th>DATE</th>\n",
       "      <th>PRCP</th>\n",
       "      <th>TAVG</th>\n",
       "      <th>TMAX</th>\n",
       "      <th>TMIN</th>\n",
       "    </tr>\n",
       "  </thead>\n",
       "  <tbody>\n",
       "    <tr>\n",
       "      <th>0</th>\n",
       "      <td>IN022023000</td>\n",
       "      <td>NEW DELHI PALAM, IN</td>\n",
       "      <td>10-10-2022</td>\n",
       "      <td>0.00</td>\n",
       "      <td>72</td>\n",
       "      <td>76.0</td>\n",
       "      <td>69.0</td>\n",
       "    </tr>\n",
       "    <tr>\n",
       "      <th>1</th>\n",
       "      <td>IN022023000</td>\n",
       "      <td>NEW DELHI PALAM, IN</td>\n",
       "      <td>11-10-2022</td>\n",
       "      <td>0.01</td>\n",
       "      <td>77</td>\n",
       "      <td>NaN</td>\n",
       "      <td>70.0</td>\n",
       "    </tr>\n",
       "    <tr>\n",
       "      <th>2</th>\n",
       "      <td>IN022023000</td>\n",
       "      <td>NEW DELHI PALAM, IN</td>\n",
       "      <td>12-10-2022</td>\n",
       "      <td>0.00</td>\n",
       "      <td>77</td>\n",
       "      <td>NaN</td>\n",
       "      <td>NaN</td>\n",
       "    </tr>\n",
       "    <tr>\n",
       "      <th>3</th>\n",
       "      <td>IN022023000</td>\n",
       "      <td>NEW DELHI PALAM, IN</td>\n",
       "      <td>13-10-2022</td>\n",
       "      <td>NaN</td>\n",
       "      <td>77</td>\n",
       "      <td>86.0</td>\n",
       "      <td>NaN</td>\n",
       "    </tr>\n",
       "    <tr>\n",
       "      <th>4</th>\n",
       "      <td>IN022023000</td>\n",
       "      <td>NEW DELHI PALAM, IN</td>\n",
       "      <td>14-10-2022</td>\n",
       "      <td>NaN</td>\n",
       "      <td>78</td>\n",
       "      <td>87.0</td>\n",
       "      <td>69.0</td>\n",
       "    </tr>\n",
       "  </tbody>\n",
       "</table>\n",
       "</div>"
      ],
      "text/plain": [
       "       STATION                 NAME        DATE  PRCP  TAVG  TMAX  TMIN\n",
       "0  IN022023000  NEW DELHI PALAM, IN  10-10-2022  0.00    72  76.0  69.0\n",
       "1  IN022023000  NEW DELHI PALAM, IN  11-10-2022  0.01    77   NaN  70.0\n",
       "2  IN022023000  NEW DELHI PALAM, IN  12-10-2022  0.00    77   NaN   NaN\n",
       "3  IN022023000  NEW DELHI PALAM, IN  13-10-2022   NaN    77  86.0   NaN\n",
       "4  IN022023000  NEW DELHI PALAM, IN  14-10-2022   NaN    78  87.0  69.0"
      ]
     },
     "execution_count": 4,
     "metadata": {},
     "output_type": "execute_result"
    }
   ],
   "source": [
    "df.head()"
   ]
  },
  {
   "cell_type": "markdown",
   "metadata": {},
   "source": [
    "Creating the Date as the index"
   ]
  },
  {
   "cell_type": "code",
   "execution_count": 5,
   "metadata": {},
   "outputs": [],
   "source": [
    "df = pd.read_csv('Weather_Data.csv',index_col='DATE')"
   ]
  },
  {
   "cell_type": "code",
   "execution_count": 6,
   "metadata": {},
   "outputs": [
    {
     "data": {
      "text/html": [
       "<div>\n",
       "<style scoped>\n",
       "    .dataframe tbody tr th:only-of-type {\n",
       "        vertical-align: middle;\n",
       "    }\n",
       "\n",
       "    .dataframe tbody tr th {\n",
       "        vertical-align: top;\n",
       "    }\n",
       "\n",
       "    .dataframe thead th {\n",
       "        text-align: right;\n",
       "    }\n",
       "</style>\n",
       "<table border=\"1\" class=\"dataframe\">\n",
       "  <thead>\n",
       "    <tr style=\"text-align: right;\">\n",
       "      <th></th>\n",
       "      <th>STATION</th>\n",
       "      <th>NAME</th>\n",
       "      <th>PRCP</th>\n",
       "      <th>TAVG</th>\n",
       "      <th>TMAX</th>\n",
       "      <th>TMIN</th>\n",
       "    </tr>\n",
       "    <tr>\n",
       "      <th>DATE</th>\n",
       "      <th></th>\n",
       "      <th></th>\n",
       "      <th></th>\n",
       "      <th></th>\n",
       "      <th></th>\n",
       "      <th></th>\n",
       "    </tr>\n",
       "  </thead>\n",
       "  <tbody>\n",
       "    <tr>\n",
       "      <th>10-10-2022</th>\n",
       "      <td>IN022023000</td>\n",
       "      <td>NEW DELHI PALAM, IN</td>\n",
       "      <td>0.00</td>\n",
       "      <td>72</td>\n",
       "      <td>76.0</td>\n",
       "      <td>69.0</td>\n",
       "    </tr>\n",
       "    <tr>\n",
       "      <th>11-10-2022</th>\n",
       "      <td>IN022023000</td>\n",
       "      <td>NEW DELHI PALAM, IN</td>\n",
       "      <td>0.01</td>\n",
       "      <td>77</td>\n",
       "      <td>NaN</td>\n",
       "      <td>70.0</td>\n",
       "    </tr>\n",
       "    <tr>\n",
       "      <th>12-10-2022</th>\n",
       "      <td>IN022023000</td>\n",
       "      <td>NEW DELHI PALAM, IN</td>\n",
       "      <td>0.00</td>\n",
       "      <td>77</td>\n",
       "      <td>NaN</td>\n",
       "      <td>NaN</td>\n",
       "    </tr>\n",
       "    <tr>\n",
       "      <th>13-10-2022</th>\n",
       "      <td>IN022023000</td>\n",
       "      <td>NEW DELHI PALAM, IN</td>\n",
       "      <td>NaN</td>\n",
       "      <td>77</td>\n",
       "      <td>86.0</td>\n",
       "      <td>NaN</td>\n",
       "    </tr>\n",
       "    <tr>\n",
       "      <th>14-10-2022</th>\n",
       "      <td>IN022023000</td>\n",
       "      <td>NEW DELHI PALAM, IN</td>\n",
       "      <td>NaN</td>\n",
       "      <td>78</td>\n",
       "      <td>87.0</td>\n",
       "      <td>69.0</td>\n",
       "    </tr>\n",
       "  </tbody>\n",
       "</table>\n",
       "</div>"
      ],
      "text/plain": [
       "                STATION                 NAME  PRCP  TAVG  TMAX  TMIN\n",
       "DATE                                                                \n",
       "10-10-2022  IN022023000  NEW DELHI PALAM, IN  0.00    72  76.0  69.0\n",
       "11-10-2022  IN022023000  NEW DELHI PALAM, IN  0.01    77   NaN  70.0\n",
       "12-10-2022  IN022023000  NEW DELHI PALAM, IN  0.00    77   NaN   NaN\n",
       "13-10-2022  IN022023000  NEW DELHI PALAM, IN   NaN    77  86.0   NaN\n",
       "14-10-2022  IN022023000  NEW DELHI PALAM, IN   NaN    78  87.0  69.0"
      ]
     },
     "execution_count": 6,
     "metadata": {},
     "output_type": "execute_result"
    }
   ],
   "source": [
    "df.head()"
   ]
  },
  {
   "cell_type": "markdown",
   "metadata": {},
   "source": [
    "Infomation of the columns of the dataset\n",
    "Date->Date of the record\n",
    "Station->Name of the station\n",
    "Name->Name of the place\n",
    "PRCP->Precipation\n",
    "TAVG->Represent average hourly values\n",
    "TMAX->Represent average hourly maximum values\n",
    "TMIN->Represent average hourly minimum values"
   ]
  },
  {
   "cell_type": "markdown",
   "metadata": {},
   "source": [
    "Checking the shape of the dataset"
   ]
  },
  {
   "cell_type": "code",
   "execution_count": 9,
   "metadata": {},
   "outputs": [
    {
     "data": {
      "text/plain": [
       "(750, 6)"
      ]
     },
     "execution_count": 9,
     "metadata": {},
     "output_type": "execute_result"
    }
   ],
   "source": [
    "df.shape"
   ]
  },
  {
   "cell_type": "markdown",
   "metadata": {},
   "source": [
    "There are total 750 rows and 6 columns"
   ]
  },
  {
   "cell_type": "markdown",
   "metadata": {},
   "source": [
    "Checking the duplicates in the dataset"
   ]
  },
  {
   "cell_type": "code",
   "execution_count": 8,
   "metadata": {},
   "outputs": [
    {
     "data": {
      "text/plain": [
       "40"
      ]
     },
     "execution_count": 8,
     "metadata": {},
     "output_type": "execute_result"
    }
   ],
   "source": [
    "df.duplicated().sum()"
   ]
  },
  {
   "cell_type": "markdown",
   "metadata": {},
   "source": [
    "Dropping the duplicated rows in the dataset"
   ]
  },
  {
   "cell_type": "code",
   "execution_count": 19,
   "metadata": {},
   "outputs": [],
   "source": [
    "df = df.drop_duplicates()"
   ]
  },
  {
   "cell_type": "code",
   "execution_count": 20,
   "metadata": {},
   "outputs": [
    {
     "data": {
      "text/html": [
       "<div>\n",
       "<style scoped>\n",
       "    .dataframe tbody tr th:only-of-type {\n",
       "        vertical-align: middle;\n",
       "    }\n",
       "\n",
       "    .dataframe tbody tr th {\n",
       "        vertical-align: top;\n",
       "    }\n",
       "\n",
       "    .dataframe thead th {\n",
       "        text-align: right;\n",
       "    }\n",
       "</style>\n",
       "<table border=\"1\" class=\"dataframe\">\n",
       "  <thead>\n",
       "    <tr style=\"text-align: right;\">\n",
       "      <th></th>\n",
       "      <th>STATION</th>\n",
       "      <th>NAME</th>\n",
       "      <th>PRCP</th>\n",
       "      <th>TAVG</th>\n",
       "      <th>TMAX</th>\n",
       "      <th>TMIN</th>\n",
       "    </tr>\n",
       "    <tr>\n",
       "      <th>DATE</th>\n",
       "      <th></th>\n",
       "      <th></th>\n",
       "      <th></th>\n",
       "      <th></th>\n",
       "      <th></th>\n",
       "      <th></th>\n",
       "    </tr>\n",
       "  </thead>\n",
       "  <tbody>\n",
       "    <tr>\n",
       "      <th>10-10-2022</th>\n",
       "      <td>IN022023000</td>\n",
       "      <td>NEW DELHI PALAM, IN</td>\n",
       "      <td>0.00</td>\n",
       "      <td>72</td>\n",
       "      <td>76.0</td>\n",
       "      <td>69.0</td>\n",
       "    </tr>\n",
       "    <tr>\n",
       "      <th>11-10-2022</th>\n",
       "      <td>IN022023000</td>\n",
       "      <td>NEW DELHI PALAM, IN</td>\n",
       "      <td>0.01</td>\n",
       "      <td>77</td>\n",
       "      <td>NaN</td>\n",
       "      <td>70.0</td>\n",
       "    </tr>\n",
       "    <tr>\n",
       "      <th>12-10-2022</th>\n",
       "      <td>IN022023000</td>\n",
       "      <td>NEW DELHI PALAM, IN</td>\n",
       "      <td>0.00</td>\n",
       "      <td>77</td>\n",
       "      <td>NaN</td>\n",
       "      <td>NaN</td>\n",
       "    </tr>\n",
       "    <tr>\n",
       "      <th>13-10-2022</th>\n",
       "      <td>IN022023000</td>\n",
       "      <td>NEW DELHI PALAM, IN</td>\n",
       "      <td>NaN</td>\n",
       "      <td>77</td>\n",
       "      <td>86.0</td>\n",
       "      <td>NaN</td>\n",
       "    </tr>\n",
       "    <tr>\n",
       "      <th>14-10-2022</th>\n",
       "      <td>IN022023000</td>\n",
       "      <td>NEW DELHI PALAM, IN</td>\n",
       "      <td>NaN</td>\n",
       "      <td>78</td>\n",
       "      <td>87.0</td>\n",
       "      <td>69.0</td>\n",
       "    </tr>\n",
       "  </tbody>\n",
       "</table>\n",
       "</div>"
      ],
      "text/plain": [
       "                STATION                 NAME  PRCP  TAVG  TMAX  TMIN\n",
       "DATE                                                                \n",
       "10-10-2022  IN022023000  NEW DELHI PALAM, IN  0.00    72  76.0  69.0\n",
       "11-10-2022  IN022023000  NEW DELHI PALAM, IN  0.01    77   NaN  70.0\n",
       "12-10-2022  IN022023000  NEW DELHI PALAM, IN  0.00    77   NaN   NaN\n",
       "13-10-2022  IN022023000  NEW DELHI PALAM, IN   NaN    77  86.0   NaN\n",
       "14-10-2022  IN022023000  NEW DELHI PALAM, IN   NaN    78  87.0  69.0"
      ]
     },
     "execution_count": 20,
     "metadata": {},
     "output_type": "execute_result"
    }
   ],
   "source": [
    "df.head()"
   ]
  },
  {
   "cell_type": "markdown",
   "metadata": {},
   "source": [
    "Checking the null values in the dataset"
   ]
  },
  {
   "cell_type": "code",
   "execution_count": 21,
   "metadata": {},
   "outputs": [
    {
     "data": {
      "text/plain": [
       "STATION      0\n",
       "NAME         0\n",
       "PRCP       512\n",
       "TAVG         0\n",
       "TMAX       148\n",
       "TMIN       157\n",
       "dtype: int64"
      ]
     },
     "execution_count": 21,
     "metadata": {},
     "output_type": "execute_result"
    }
   ],
   "source": [
    "df.isnull().sum()"
   ]
  },
  {
   "cell_type": "code",
   "execution_count": 22,
   "metadata": {},
   "outputs": [
    {
     "data": {
      "text/plain": [
       "817"
      ]
     },
     "execution_count": 22,
     "metadata": {},
     "output_type": "execute_result"
    }
   ],
   "source": [
    "df.isnull().sum().sum()"
   ]
  },
  {
   "cell_type": "markdown",
   "metadata": {},
   "source": [
    "There are total 817 null values in the dataset"
   ]
  },
  {
   "cell_type": "code",
   "execution_count": 33,
   "metadata": {},
   "outputs": [],
   "source": [
    "# Creating the function for replacing the null values\n",
    "def replace_null(df,columns) :\n",
    "    df.fillna(value=df[columns].median(),inplace=True)\n",
    "    return df"
   ]
  },
  {
   "cell_type": "code",
   "execution_count": 34,
   "metadata": {},
   "outputs": [
    {
     "data": {
      "text/html": [
       "<div>\n",
       "<style scoped>\n",
       "    .dataframe tbody tr th:only-of-type {\n",
       "        vertical-align: middle;\n",
       "    }\n",
       "\n",
       "    .dataframe tbody tr th {\n",
       "        vertical-align: top;\n",
       "    }\n",
       "\n",
       "    .dataframe thead th {\n",
       "        text-align: right;\n",
       "    }\n",
       "</style>\n",
       "<table border=\"1\" class=\"dataframe\">\n",
       "  <thead>\n",
       "    <tr style=\"text-align: right;\">\n",
       "      <th></th>\n",
       "      <th>STATION</th>\n",
       "      <th>NAME</th>\n",
       "      <th>PRCP</th>\n",
       "      <th>TAVG</th>\n",
       "      <th>TMAX</th>\n",
       "      <th>TMIN</th>\n",
       "    </tr>\n",
       "    <tr>\n",
       "      <th>DATE</th>\n",
       "      <th></th>\n",
       "      <th></th>\n",
       "      <th></th>\n",
       "      <th></th>\n",
       "      <th></th>\n",
       "      <th></th>\n",
       "    </tr>\n",
       "  </thead>\n",
       "  <tbody>\n",
       "    <tr>\n",
       "      <th>10-10-2022</th>\n",
       "      <td>IN022023000</td>\n",
       "      <td>NEW DELHI PALAM, IN</td>\n",
       "      <td>0.00</td>\n",
       "      <td>72</td>\n",
       "      <td>76.00</td>\n",
       "      <td>69.00</td>\n",
       "    </tr>\n",
       "    <tr>\n",
       "      <th>11-10-2022</th>\n",
       "      <td>IN022023000</td>\n",
       "      <td>NEW DELHI PALAM, IN</td>\n",
       "      <td>0.01</td>\n",
       "      <td>77</td>\n",
       "      <td>0.02</td>\n",
       "      <td>70.00</td>\n",
       "    </tr>\n",
       "    <tr>\n",
       "      <th>12-10-2022</th>\n",
       "      <td>IN022023000</td>\n",
       "      <td>NEW DELHI PALAM, IN</td>\n",
       "      <td>0.00</td>\n",
       "      <td>77</td>\n",
       "      <td>0.02</td>\n",
       "      <td>0.02</td>\n",
       "    </tr>\n",
       "    <tr>\n",
       "      <th>13-10-2022</th>\n",
       "      <td>IN022023000</td>\n",
       "      <td>NEW DELHI PALAM, IN</td>\n",
       "      <td>0.02</td>\n",
       "      <td>77</td>\n",
       "      <td>86.00</td>\n",
       "      <td>0.02</td>\n",
       "    </tr>\n",
       "    <tr>\n",
       "      <th>14-10-2022</th>\n",
       "      <td>IN022023000</td>\n",
       "      <td>NEW DELHI PALAM, IN</td>\n",
       "      <td>0.02</td>\n",
       "      <td>78</td>\n",
       "      <td>87.00</td>\n",
       "      <td>69.00</td>\n",
       "    </tr>\n",
       "    <tr>\n",
       "      <th>...</th>\n",
       "      <td>...</td>\n",
       "      <td>...</td>\n",
       "      <td>...</td>\n",
       "      <td>...</td>\n",
       "      <td>...</td>\n",
       "      <td>...</td>\n",
       "    </tr>\n",
       "    <tr>\n",
       "      <th>15-10-2023</th>\n",
       "      <td>IN022021900</td>\n",
       "      <td>NEW DELHI SAFDARJUN, IN</td>\n",
       "      <td>0.02</td>\n",
       "      <td>81</td>\n",
       "      <td>98.00</td>\n",
       "      <td>71.00</td>\n",
       "    </tr>\n",
       "    <tr>\n",
       "      <th>16-10-2023</th>\n",
       "      <td>IN022021900</td>\n",
       "      <td>NEW DELHI SAFDARJUN, IN</td>\n",
       "      <td>0.02</td>\n",
       "      <td>76</td>\n",
       "      <td>94.00</td>\n",
       "      <td>0.02</td>\n",
       "    </tr>\n",
       "    <tr>\n",
       "      <th>17-10-2023</th>\n",
       "      <td>IN022021900</td>\n",
       "      <td>NEW DELHI SAFDARJUN, IN</td>\n",
       "      <td>0.20</td>\n",
       "      <td>72</td>\n",
       "      <td>87.00</td>\n",
       "      <td>63.00</td>\n",
       "    </tr>\n",
       "    <tr>\n",
       "      <th>18-10-2023</th>\n",
       "      <td>IN022021900</td>\n",
       "      <td>NEW DELHI SAFDARJUN, IN</td>\n",
       "      <td>0.00</td>\n",
       "      <td>73</td>\n",
       "      <td>0.02</td>\n",
       "      <td>63.00</td>\n",
       "    </tr>\n",
       "    <tr>\n",
       "      <th>19-10-2023</th>\n",
       "      <td>IN022021900</td>\n",
       "      <td>NEW DELHI SAFDARJUN, IN</td>\n",
       "      <td>0.02</td>\n",
       "      <td>73</td>\n",
       "      <td>87.00</td>\n",
       "      <td>61.00</td>\n",
       "    </tr>\n",
       "  </tbody>\n",
       "</table>\n",
       "<p>710 rows × 6 columns</p>\n",
       "</div>"
      ],
      "text/plain": [
       "                STATION                     NAME  PRCP  TAVG   TMAX   TMIN\n",
       "DATE                                                                      \n",
       "10-10-2022  IN022023000      NEW DELHI PALAM, IN  0.00    72  76.00  69.00\n",
       "11-10-2022  IN022023000      NEW DELHI PALAM, IN  0.01    77   0.02  70.00\n",
       "12-10-2022  IN022023000      NEW DELHI PALAM, IN  0.00    77   0.02   0.02\n",
       "13-10-2022  IN022023000      NEW DELHI PALAM, IN  0.02    77  86.00   0.02\n",
       "14-10-2022  IN022023000      NEW DELHI PALAM, IN  0.02    78  87.00  69.00\n",
       "...                 ...                      ...   ...   ...    ...    ...\n",
       "15-10-2023  IN022021900  NEW DELHI SAFDARJUN, IN  0.02    81  98.00  71.00\n",
       "16-10-2023  IN022021900  NEW DELHI SAFDARJUN, IN  0.02    76  94.00   0.02\n",
       "17-10-2023  IN022021900  NEW DELHI SAFDARJUN, IN  0.20    72  87.00  63.00\n",
       "18-10-2023  IN022021900  NEW DELHI SAFDARJUN, IN  0.00    73   0.02  63.00\n",
       "19-10-2023  IN022021900  NEW DELHI SAFDARJUN, IN  0.02    73  87.00  61.00\n",
       "\n",
       "[710 rows x 6 columns]"
      ]
     },
     "execution_count": 34,
     "metadata": {},
     "output_type": "execute_result"
    }
   ],
   "source": [
    "# Replacing all the null values with the help of the user defined function\n",
    "replace_null(df,'PRCP')\n",
    "replace_null(df,'TMAX')\n",
    "replace_null(df,'TMIN')"
   ]
  },
  {
   "cell_type": "code",
   "execution_count": null,
   "metadata": {},
   "outputs": [],
   "source": []
  }
 ],
 "metadata": {
  "kernelspec": {
   "display_name": "Python 3",
   "language": "python",
   "name": "python3"
  },
  "language_info": {
   "codemirror_mode": {
    "name": "ipython",
    "version": 3
   },
   "file_extension": ".py",
   "mimetype": "text/x-python",
   "name": "python",
   "nbconvert_exporter": "python",
   "pygments_lexer": "ipython3",
   "version": "3.11.4"
  }
 },
 "nbformat": 4,
 "nbformat_minor": 2
}
